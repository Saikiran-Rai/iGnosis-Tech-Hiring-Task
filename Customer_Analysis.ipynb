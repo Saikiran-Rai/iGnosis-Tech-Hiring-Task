{
 "cells": [
  {
   "cell_type": "markdown",
   "id": "ce8a06ca-f18c-4921-9b93-ef47fdde575f",
   "metadata": {},
   "source": [
    "# IMPORT LIBRARIES"
   ]
  },
  {
   "cell_type": "code",
   "execution_count": 1,
   "id": "14d74254-00c3-4712-a566-7487102b5877",
   "metadata": {},
   "outputs": [],
   "source": [
    "import pandas as pd\n",
    "import matplotlib.pyplot as plt\n",
    "import seaborn as sns"
   ]
  },
  {
   "cell_type": "markdown",
   "id": "566aea15-643e-4035-8300-6160d6363c11",
   "metadata": {},
   "source": [
    "# LOAD DATASETS"
   ]
  },
  {
   "cell_type": "code",
   "execution_count": 5,
   "id": "eb745a0b-f112-4020-9324-7b69b760b6ed",
   "metadata": {},
   "outputs": [],
   "source": [
    "transaction_data= pd.read_csv(\"transaction_data.csv\")\n",
    "purchase_behaviour= pd.read_csv(\"purchase_behaviour.csv\")"
   ]
  },
  {
   "cell_type": "code",
   "execution_count": 9,
   "id": "9904a586-5c23-4b57-a5e2-ebce9c90a3e1",
   "metadata": {},
   "outputs": [
    {
     "data": {
      "text/html": [
       "<div>\n",
       "<style scoped>\n",
       "    .dataframe tbody tr th:only-of-type {\n",
       "        vertical-align: middle;\n",
       "    }\n",
       "\n",
       "    .dataframe tbody tr th {\n",
       "        vertical-align: top;\n",
       "    }\n",
       "\n",
       "    .dataframe thead th {\n",
       "        text-align: right;\n",
       "    }\n",
       "</style>\n",
       "<table border=\"1\" class=\"dataframe\">\n",
       "  <thead>\n",
       "    <tr style=\"text-align: right;\">\n",
       "      <th></th>\n",
       "      <th>DATE</th>\n",
       "      <th>STORE_NBR</th>\n",
       "      <th>LYLTY_CARD_NBR</th>\n",
       "      <th>TXN_ID</th>\n",
       "      <th>PROD_NBR</th>\n",
       "      <th>PROD_NAME</th>\n",
       "      <th>PROD_QTY</th>\n",
       "      <th>TOT_SALES</th>\n",
       "    </tr>\n",
       "  </thead>\n",
       "  <tbody>\n",
       "    <tr>\n",
       "      <th>0</th>\n",
       "      <td>43390</td>\n",
       "      <td>1</td>\n",
       "      <td>1000</td>\n",
       "      <td>1</td>\n",
       "      <td>5</td>\n",
       "      <td>Natural Chip        Compny SeaSalt175g</td>\n",
       "      <td>2</td>\n",
       "      <td>6.0</td>\n",
       "    </tr>\n",
       "    <tr>\n",
       "      <th>1</th>\n",
       "      <td>43599</td>\n",
       "      <td>1</td>\n",
       "      <td>1307</td>\n",
       "      <td>348</td>\n",
       "      <td>66</td>\n",
       "      <td>CCs Nacho Cheese    175g</td>\n",
       "      <td>3</td>\n",
       "      <td>6.3</td>\n",
       "    </tr>\n",
       "    <tr>\n",
       "      <th>2</th>\n",
       "      <td>43605</td>\n",
       "      <td>1</td>\n",
       "      <td>1343</td>\n",
       "      <td>383</td>\n",
       "      <td>61</td>\n",
       "      <td>Smiths Crinkle Cut  Chips Chicken 170g</td>\n",
       "      <td>2</td>\n",
       "      <td>2.9</td>\n",
       "    </tr>\n",
       "    <tr>\n",
       "      <th>3</th>\n",
       "      <td>43329</td>\n",
       "      <td>2</td>\n",
       "      <td>2373</td>\n",
       "      <td>974</td>\n",
       "      <td>69</td>\n",
       "      <td>Smiths Chip Thinly  S/Cream&amp;Onion 175g</td>\n",
       "      <td>5</td>\n",
       "      <td>15.0</td>\n",
       "    </tr>\n",
       "    <tr>\n",
       "      <th>4</th>\n",
       "      <td>43330</td>\n",
       "      <td>2</td>\n",
       "      <td>2426</td>\n",
       "      <td>1038</td>\n",
       "      <td>108</td>\n",
       "      <td>Kettle Tortilla ChpsHny&amp;Jlpno Chili 150g</td>\n",
       "      <td>3</td>\n",
       "      <td>13.8</td>\n",
       "    </tr>\n",
       "  </tbody>\n",
       "</table>\n",
       "</div>"
      ],
      "text/plain": [
       "    DATE  STORE_NBR  LYLTY_CARD_NBR  TXN_ID  PROD_NBR  \\\n",
       "0  43390          1            1000       1         5   \n",
       "1  43599          1            1307     348        66   \n",
       "2  43605          1            1343     383        61   \n",
       "3  43329          2            2373     974        69   \n",
       "4  43330          2            2426    1038       108   \n",
       "\n",
       "                                  PROD_NAME  PROD_QTY  TOT_SALES  \n",
       "0    Natural Chip        Compny SeaSalt175g         2        6.0  \n",
       "1                  CCs Nacho Cheese    175g         3        6.3  \n",
       "2    Smiths Crinkle Cut  Chips Chicken 170g         2        2.9  \n",
       "3    Smiths Chip Thinly  S/Cream&Onion 175g         5       15.0  \n",
       "4  Kettle Tortilla ChpsHny&Jlpno Chili 150g         3       13.8  "
      ]
     },
     "execution_count": 9,
     "metadata": {},
     "output_type": "execute_result"
    }
   ],
   "source": [
    "# Checking transaction_data\n",
    "transaction_data.head()"
   ]
  },
  {
   "cell_type": "code",
   "execution_count": 10,
   "id": "8fea4089-9100-44fa-9934-d6e0e7bed487",
   "metadata": {},
   "outputs": [
    {
     "data": {
      "text/html": [
       "<div>\n",
       "<style scoped>\n",
       "    .dataframe tbody tr th:only-of-type {\n",
       "        vertical-align: middle;\n",
       "    }\n",
       "\n",
       "    .dataframe tbody tr th {\n",
       "        vertical-align: top;\n",
       "    }\n",
       "\n",
       "    .dataframe thead th {\n",
       "        text-align: right;\n",
       "    }\n",
       "</style>\n",
       "<table border=\"1\" class=\"dataframe\">\n",
       "  <thead>\n",
       "    <tr style=\"text-align: right;\">\n",
       "      <th></th>\n",
       "      <th>LYLTY_CARD_NBR</th>\n",
       "      <th>LIFESTAGE</th>\n",
       "      <th>PREMIUM_CUSTOMER</th>\n",
       "    </tr>\n",
       "  </thead>\n",
       "  <tbody>\n",
       "    <tr>\n",
       "      <th>0</th>\n",
       "      <td>1000</td>\n",
       "      <td>YOUNG SINGLES/COUPLES</td>\n",
       "      <td>Premium</td>\n",
       "    </tr>\n",
       "    <tr>\n",
       "      <th>1</th>\n",
       "      <td>1002</td>\n",
       "      <td>YOUNG SINGLES/COUPLES</td>\n",
       "      <td>Mainstream</td>\n",
       "    </tr>\n",
       "    <tr>\n",
       "      <th>2</th>\n",
       "      <td>1003</td>\n",
       "      <td>YOUNG FAMILIES</td>\n",
       "      <td>Budget</td>\n",
       "    </tr>\n",
       "    <tr>\n",
       "      <th>3</th>\n",
       "      <td>1004</td>\n",
       "      <td>OLDER SINGLES/COUPLES</td>\n",
       "      <td>Mainstream</td>\n",
       "    </tr>\n",
       "    <tr>\n",
       "      <th>4</th>\n",
       "      <td>1005</td>\n",
       "      <td>MIDAGE SINGLES/COUPLES</td>\n",
       "      <td>Mainstream</td>\n",
       "    </tr>\n",
       "  </tbody>\n",
       "</table>\n",
       "</div>"
      ],
      "text/plain": [
       "   LYLTY_CARD_NBR               LIFESTAGE PREMIUM_CUSTOMER\n",
       "0            1000   YOUNG SINGLES/COUPLES          Premium\n",
       "1            1002   YOUNG SINGLES/COUPLES       Mainstream\n",
       "2            1003          YOUNG FAMILIES           Budget\n",
       "3            1004   OLDER SINGLES/COUPLES       Mainstream\n",
       "4            1005  MIDAGE SINGLES/COUPLES       Mainstream"
      ]
     },
     "execution_count": 10,
     "metadata": {},
     "output_type": "execute_result"
    }
   ],
   "source": [
    "# Checking purchase_behaviour\n",
    "purchase_behaviour.head()"
   ]
  },
  {
   "cell_type": "markdown",
   "id": "ce8aea63-b54a-40c0-a61f-5c7d149c1396",
   "metadata": {},
   "source": [
    "# TOP 3 MOST PROFITABLE PRODUCTS"
   ]
  },
  {
   "cell_type": "code",
   "execution_count": 19,
   "id": "aebd4efa-93fd-4b0f-baa0-9e523ec89741",
   "metadata": {},
   "outputs": [
    {
     "name": "stdout",
     "output_type": "stream",
     "text": [
      "***TOP 3 MOST PROFITABLE PRODUCTS***\n",
      " PROD_NBR  PROD_NAME                               \n",
      "4         Dorito Corn Chp     Supreme 380g            40352.0\n",
      "14        Smiths Crnkle Chip  Orgnl Big Bag 380g      36367.6\n",
      "16        Smiths Crinkle Chips Salt & Vinegar 330g    34804.2\n",
      "Name: TOT_SALES, dtype: float64\n"
     ]
    }
   ],
   "source": [
    "top_products= transaction_data.groupby([\"PROD_NBR\", \"PROD_NAME\"])[\"TOT_SALES\"].sum()\n",
    "top_3_products= top_products.sort_values(ascending=False).head(3)\n",
    "print(\"***TOP 3 MOST PROFITABLE PRODUCTS***\\n\",top_3_products)"
   ]
  },
  {
   "cell_type": "markdown",
   "id": "6faee11f-a3b4-4da0-a483-012a53d1e429",
   "metadata": {},
   "source": [
    "# MOST LOYAL CUSTOMERS"
   ]
  },
  {
   "cell_type": "code",
   "execution_count": 12,
   "id": "a292a38a-5a95-4d45-84b3-62d95df2b22b",
   "metadata": {},
   "outputs": [
    {
     "data": {
      "text/html": [
       "<div>\n",
       "<style scoped>\n",
       "    .dataframe tbody tr th:only-of-type {\n",
       "        vertical-align: middle;\n",
       "    }\n",
       "\n",
       "    .dataframe tbody tr th {\n",
       "        vertical-align: top;\n",
       "    }\n",
       "\n",
       "    .dataframe thead th {\n",
       "        text-align: right;\n",
       "    }\n",
       "</style>\n",
       "<table border=\"1\" class=\"dataframe\">\n",
       "  <thead>\n",
       "    <tr style=\"text-align: right;\">\n",
       "      <th></th>\n",
       "      <th>total_transactions</th>\n",
       "      <th>total_spent</th>\n",
       "    </tr>\n",
       "    <tr>\n",
       "      <th>LYLTY_CARD_NBR</th>\n",
       "      <th></th>\n",
       "      <th></th>\n",
       "    </tr>\n",
       "  </thead>\n",
       "  <tbody>\n",
       "    <tr>\n",
       "      <th>1000</th>\n",
       "      <td>1</td>\n",
       "      <td>6.0</td>\n",
       "    </tr>\n",
       "    <tr>\n",
       "      <th>1002</th>\n",
       "      <td>1</td>\n",
       "      <td>2.7</td>\n",
       "    </tr>\n",
       "    <tr>\n",
       "      <th>1003</th>\n",
       "      <td>2</td>\n",
       "      <td>6.6</td>\n",
       "    </tr>\n",
       "    <tr>\n",
       "      <th>1004</th>\n",
       "      <td>1</td>\n",
       "      <td>1.9</td>\n",
       "    </tr>\n",
       "    <tr>\n",
       "      <th>1005</th>\n",
       "      <td>1</td>\n",
       "      <td>2.8</td>\n",
       "    </tr>\n",
       "  </tbody>\n",
       "</table>\n",
       "</div>"
      ],
      "text/plain": [
       "                total_transactions  total_spent\n",
       "LYLTY_CARD_NBR                                 \n",
       "1000                             1          6.0\n",
       "1002                             1          2.7\n",
       "1003                             2          6.6\n",
       "1004                             1          1.9\n",
       "1005                             1          2.8"
      ]
     },
     "execution_count": 12,
     "metadata": {},
     "output_type": "execute_result"
    }
   ],
   "source": [
    "customer_loyalty = transaction_data.groupby(\"LYLTY_CARD_NBR\").agg(\n",
    "    total_transactions=(\"TXN_ID\", \"count\"),\n",
    "    total_spent=(\"TOT_SALES\", \"sum\")\n",
    ")\n",
    "customer_loyalty.head()"
   ]
  },
  {
   "cell_type": "code",
   "execution_count": 13,
   "id": "28ba56a5-66ed-4c0b-bc50-87d6530736d4",
   "metadata": {},
   "outputs": [
    {
     "data": {
      "text/html": [
       "<div>\n",
       "<style scoped>\n",
       "    .dataframe tbody tr th:only-of-type {\n",
       "        vertical-align: middle;\n",
       "    }\n",
       "\n",
       "    .dataframe tbody tr th {\n",
       "        vertical-align: top;\n",
       "    }\n",
       "\n",
       "    .dataframe thead th {\n",
       "        text-align: right;\n",
       "    }\n",
       "</style>\n",
       "<table border=\"1\" class=\"dataframe\">\n",
       "  <thead>\n",
       "    <tr style=\"text-align: right;\">\n",
       "      <th></th>\n",
       "      <th>LYLTY_CARD_NBR</th>\n",
       "      <th>total_transactions</th>\n",
       "      <th>total_spent</th>\n",
       "      <th>LIFESTAGE</th>\n",
       "      <th>PREMIUM_CUSTOMER</th>\n",
       "    </tr>\n",
       "  </thead>\n",
       "  <tbody>\n",
       "    <tr>\n",
       "      <th>42813</th>\n",
       "      <td>162039</td>\n",
       "      <td>18</td>\n",
       "      <td>126.8</td>\n",
       "      <td>OLDER FAMILIES</td>\n",
       "      <td>Mainstream</td>\n",
       "    </tr>\n",
       "    <tr>\n",
       "      <th>45905</th>\n",
       "      <td>172032</td>\n",
       "      <td>18</td>\n",
       "      <td>120.1</td>\n",
       "      <td>YOUNG SINGLES/COUPLES</td>\n",
       "      <td>Mainstream</td>\n",
       "    </tr>\n",
       "    <tr>\n",
       "      <th>60925</th>\n",
       "      <td>230078</td>\n",
       "      <td>17</td>\n",
       "      <td>138.6</td>\n",
       "      <td>OLDER FAMILIES</td>\n",
       "      <td>Budget</td>\n",
       "    </tr>\n",
       "    <tr>\n",
       "      <th>31654</th>\n",
       "      <td>116181</td>\n",
       "      <td>17</td>\n",
       "      <td>117.6</td>\n",
       "      <td>YOUNG FAMILIES</td>\n",
       "      <td>Premium</td>\n",
       "    </tr>\n",
       "    <tr>\n",
       "      <th>3686</th>\n",
       "      <td>13138</td>\n",
       "      <td>17</td>\n",
       "      <td>109.0</td>\n",
       "      <td>YOUNG FAMILIES</td>\n",
       "      <td>Mainstream</td>\n",
       "    </tr>\n",
       "  </tbody>\n",
       "</table>\n",
       "</div>"
      ],
      "text/plain": [
       "       LYLTY_CARD_NBR  total_transactions  total_spent              LIFESTAGE  \\\n",
       "42813          162039                  18        126.8         OLDER FAMILIES   \n",
       "45905          172032                  18        120.1  YOUNG SINGLES/COUPLES   \n",
       "60925          230078                  17        138.6         OLDER FAMILIES   \n",
       "31654          116181                  17        117.6         YOUNG FAMILIES   \n",
       "3686            13138                  17        109.0         YOUNG FAMILIES   \n",
       "\n",
       "      PREMIUM_CUSTOMER  \n",
       "42813       Mainstream  \n",
       "45905       Mainstream  \n",
       "60925           Budget  \n",
       "31654          Premium  \n",
       "3686        Mainstream  "
      ]
     },
     "execution_count": 13,
     "metadata": {},
     "output_type": "execute_result"
    }
   ],
   "source": [
    "# Merging with customer demographics (purchase_behaviour)\n",
    "customer_loyalty = customer_loyalty.merge(purchase_behaviour, on=\"LYLTY_CARD_NBR\")\n",
    "loyal_customers = customer_loyalty.sort_values([\"total_transactions\", \"total_spent\"], ascending=False).head(10)\n",
    "loyal_customers.head()"
   ]
  },
  {
   "cell_type": "markdown",
   "id": "8f5dc7cb-8eb2-4092-adff-9c21e3727976",
   "metadata": {},
   "source": [
    "# CHARACTERISTICS OF MOST LOYAL CUSTOMERS"
   ]
  },
  {
   "cell_type": "code",
   "execution_count": 21,
   "id": "d187e1b0-66d6-445b-b650-98029270f414",
   "metadata": {},
   "outputs": [
    {
     "name": "stdout",
     "output_type": "stream",
     "text": [
      "***CHARACTERISTICS OF MOST LOYAL CUSTOMERS BASED ON LIFESTAGE AND PREMIUM CUSTOMER***\n",
      "                LIFESTAGE PREMIUM_CUSTOMER  count\n",
      "0         OLDER FAMILIES           Budget      2\n",
      "1         OLDER FAMILIES       Mainstream      2\n",
      "2         YOUNG FAMILIES           Budget      2\n",
      "3         YOUNG FAMILIES       Mainstream      1\n",
      "4         YOUNG FAMILIES          Premium      2\n",
      "5  YOUNG SINGLES/COUPLES       Mainstream      1\n"
     ]
    }
   ],
   "source": [
    "customer_segments = loyal_customers.groupby([\"LIFESTAGE\", \"PREMIUM_CUSTOMER\"]).size().reset_index(name=\"count\")\n",
    "print(\"***CHARACTERISTICS OF MOST LOYAL CUSTOMERS BASED ON LIFESTAGE AND PREMIUM CUSTOMER***\\n\",customer_segments)"
   ]
  },
  {
   "cell_type": "markdown",
   "id": "32c898eb-e800-4164-a820-be4c4485a0ed",
   "metadata": {},
   "source": [
    "# DATA VISUALIZATION OF TOP 3 MOST PROFITABLE PRODUCTS"
   ]
  },
  {
   "cell_type": "code",
   "execution_count": 15,
   "id": "2c804323-26a0-4969-9386-23326ccb4d1f",
   "metadata": {},
   "outputs": [
    {
     "data": {
      "image/png": "[encoded data removed]",
      "text/plain": [
       "<Figure size 1000x500 with 1 Axes>"
      ]
     },
     "metadata": {},
     "output_type": "display_data"
    }
   ],
   "source": [
    "plt.figure(figsize=(10,5))\n",
    "sns.barplot(x=top_3_products.values, y=top_3_products.index.get_level_values(1), palette=\"viridis\")\n",
    "plt.xlabel(\"Total Sales ($)\")\n",
    "plt.ylabel(\"Product Name\")\n",
    "plt.title(\"Top 3 Most Profitable Products\")\n",
    "plt.show()"
   ]
  },
  {
   "cell_type": "markdown",
   "id": "4096ff1f-9b6d-4a51-b181-7e15993ed07a",
   "metadata": {},
   "source": [
    "# DATA VISUALIZATION OF CHARACTERSITICS OF MOST LOYAL CUSTOMERS"
   ]
  },
  {
   "cell_type": "code",
   "execution_count": 16,
   "id": "eb677ad9-e8b5-463a-b891-e5ede739947d",
   "metadata": {},
   "outputs": [
    {
     "data": {
      "image/png": "[encoded data removed]",
      "text/plain": [
       "<Figure size 1000x500 with 1 Axes>"
      ]
     },
     "metadata": {},
     "output_type": "display_data"
    }
   ],
   "source": [
    "plt.figure(figsize=(10,5))\n",
    "sns.barplot(data=customer_segments, x=\"count\", y=\"LIFESTAGE\", hue=\"PREMIUM_CUSTOMER\", palette=\"pastel\")\n",
    "plt.xlabel(\"Number of Loyal Customers\")\n",
    "plt.ylabel(\"Life Stage\")\n",
    "plt.title(\"Loyal Customer Segments\")\n",
    "plt.legend(title=\"Premium Category\")\n",
    "plt.show()"
   ]
  },
  {
   "cell_type": "code",
   "execution_count": null,
   "id": "fe6da020-6f25-4cd1-8210-6871d497d6db",
   "metadata": {},
   "outputs": [],
   "source": []
  }
 ],
 "metadata": {
  "kernelspec": {
   "display_name": "Python 3 (ipykernel)",
   "language": "python",
   "name": "python3"
  },
  "language_info": {
   "codemirror_mode": {
    "name": "ipython",
    "version": 3
   },
   "file_extension": ".py",
   "mimetype": "text/x-python",
   "name": "python",
   "nbconvert_exporter": "python",
   "pygments_lexer": "ipython3",
   "version": "3.10.7"
  }
 },
 "nbformat": 4,
 "nbformat_minor": 5
}
